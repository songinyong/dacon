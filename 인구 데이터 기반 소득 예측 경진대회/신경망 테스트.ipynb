{
 "cells": [
  {
   "cell_type": "code",
   "execution_count": 249,
   "metadata": {},
   "outputs": [],
   "source": [
    "import pandas as pd\n",
    "import tensorflow as tf\n",
    "import numpy as np\n",
    "from tensorflow.keras.layers import Dropout"
   ]
  },
  {
   "cell_type": "code",
   "execution_count": 2,
   "metadata": {},
   "outputs": [
    {
     "name": "stdout",
     "output_type": "stream",
     "text": [
      "훈련용 데이터 크기: (17480, 16)\n",
      "테스트용 데이터 크기: (15081, 15)\n"
     ]
    }
   ],
   "source": [
    "#데이터 불러오기 및 크기 확인\n",
    "train_data = pd.read_csv('train.csv')\n",
    "test_data = pd.read_csv('test.csv')\n",
    "\n",
    "print(\"훈련용 데이터 크기:\", train_data.shape)\n",
    "print(\"테스트용 데이터 크기:\", test_data.shape)"
   ]
  },
  {
   "cell_type": "code",
   "execution_count": 3,
   "metadata": {},
   "outputs": [
    {
     "name": "stdout",
     "output_type": "stream",
     "text": [
      "결측치가 있는 컬럼은: workclass 입니다\n",
      "해당 컬럼에 총 1836 개의 결측치가 존재합니다.\n",
      "결측치가 있는 컬럼은: occupation 입니다\n",
      "해당 컬럼에 총 1843 개의 결측치가 존재합니다.\n",
      "결측치가 있는 컬럼은: native.country 입니다\n",
      "해당 컬럼에 총 583 개의 결측치가 존재합니다.\n",
      "[['workclass', dtype('O')], ['occupation', dtype('O')], ['native.country', dtype('O')]]\n"
     ]
    }
   ],
   "source": [
    "#결측치 제거 함수\n",
    "\n",
    "def check_missing_col(dataframe):\n",
    "    missing_col = []\n",
    "    for col in dataframe.columns:\n",
    "        missing_values = sum(dataframe[col].isna())\n",
    "        is_missing = True if missing_values >= 1 else False\n",
    "        if is_missing:\n",
    "            print(f'결측치가 있는 컬럼은: {col} 입니다')\n",
    "            print(f'해당 컬럼에 총 {missing_values} 개의 결측치가 존재합니다.')\n",
    "            missing_col.append([col, dataframe[col].dtype])\n",
    "    if missing_col == []:\n",
    "        print('결측치가 존재하지 않습니다')\n",
    "    return missing_col\n",
    "\n",
    "\n",
    "missing_col = check_missing_col(train_data)\n",
    "print(missing_col)\n",
    "\n",
    "train_data.dropna(axis=0,subset=['workclass','occupation','native.country'],inplace = True)"
   ]
  },
  {
   "cell_type": "code",
   "execution_count": 4,
   "metadata": {},
   "outputs": [
    {
     "name": "stdout",
     "output_type": "stream",
     "text": [
      "훈련용 데이터: (15081, 14)\n",
      "테스트용 라벨: (15081,)\n"
     ]
    }
   ],
   "source": [
    "\n",
    "x_train = train_data.drop(['id', 'target'], axis=1)\n",
    "y_train = train_data['target']\n",
    "\n",
    "test_data=test_data.drop(['id'], axis=1)\n",
    "\n",
    "\n",
    "print(\"훈련용 데이터:\", x_train.shape)\n",
    "print(\"테스트용 라벨:\", y_train.shape)"
   ]
  },
  {
   "cell_type": "code",
   "execution_count": 5,
   "metadata": {},
   "outputs": [],
   "source": [
    "#라벨인코딩을 하기 위함 dictionary map 생성 함수\n",
    "def make_label_map(dataframe):\n",
    "    label_maps = {}\n",
    "    for col in dataframe.columns:\n",
    "        if dataframe[col].dtype=='object':\n",
    "            label_map = {'unknown':0}\n",
    "            for i, key in enumerate(dataframe[col].unique()):\n",
    "                label_map[key] = i  #새로 등장하는 유니크 값들에 대해 1부터 1씩 증가시켜 키값을 부여해줍니다.\n",
    "            label_maps[col] = label_map\n",
    "    return label_maps\n",
    "\n",
    "# 각 범주형 변수에 인코딩 값을 부여하는 함수\n",
    "def label_encoder(dataframe, label_map):\n",
    "    for col in dataframe.columns:\n",
    "        if dataframe[col].dtype=='object':\n",
    "            dataframe[col] = dataframe[col].map(label_map[col])\n",
    "            #dataframe[col] = dataframe[col].fillna(label_map[col]['unknown']) #혹시 모를 결측값은 unknown의 값(0)으로 채워줍니다.\n",
    "    return dataframe\n",
    "\n",
    "x_train = label_encoder(x_train, make_label_map(x_train))\n",
    "\n",
    "#제출용 라벨링 데이터 변환\n",
    "test_data = label_encoder(test_data, make_label_map(test_data))"
   ]
  },
  {
   "cell_type": "code",
   "execution_count": 6,
   "metadata": {},
   "outputs": [],
   "source": [
    "from sklearn.model_selection import train_test_split\n",
    "X_train, X_test, Y_train,Y_test = train_test_split(x_train, y_train, random_state=22)"
   ]
  },
  {
   "cell_type": "code",
   "execution_count": 8,
   "metadata": {},
   "outputs": [],
   "source": [
    "mean_vals = np.mean(X_train, axis=0)\n",
    "std_val = np.std(X_train)\n",
    "\n",
    "X_train_centered = (X_train  - mean_vals) / std_val\n",
    "\n",
    "mean_vals = np.mean(X_test, axis=0)\n",
    "std_val = np.std(X_test)\n",
    "\n",
    "X_test_centered = (X_test- mean_vals) / std_val"
   ]
  },
  {
   "cell_type": "code",
   "execution_count": 10,
   "metadata": {},
   "outputs": [
    {
     "name": "stdout",
     "output_type": "stream",
     "text": [
      "[[1. 0.]\n",
      " [1. 0.]\n",
      " [0. 1.]]\n"
     ]
    }
   ],
   "source": [
    "#원핫 인코딩 생성\n",
    "y_train_onehot = tf.keras.utils.to_categorical(Y_train)\n",
    "print(y_train_onehot[:3])"
   ]
  },
  {
   "cell_type": "code",
   "execution_count": 268,
   "metadata": {},
   "outputs": [],
   "source": [
    "model = tf.keras.models.Sequential()\n",
    "\n",
    "model.add(\n",
    "    tf.keras.layers.Dense(\n",
    "    units=50,\n",
    "    input_dim=X_train_centered.shape[1],\n",
    "    kernel_initializer='glorot_uniform',\n",
    "    bias_initializer='zeros',\n",
    "    activation='relu'\n",
    "    )\n",
    ")\n",
    "\n",
    "model.add(\n",
    "    tf.keras.layers.Dense(\n",
    "    units=30,\n",
    "    input_dim=50,\n",
    "    kernel_initializer='glorot_uniform',\n",
    "    bias_initializer='zeros',\n",
    "    activation='tanh'\n",
    "    )\n",
    ")\n",
    "model.add(Dropout(0.3))\n",
    "\n",
    "\n",
    "\"\"\"\n",
    "\n",
    "model.add(\n",
    "    tf.keras.layers.Dense(\n",
    "    units=100,\n",
    "    input_dim=150,\n",
    "    kernel_initializer='glorot_uniform',\n",
    "    bias_initializer='zeros',\n",
    "    activation='tanh'\n",
    "    )\n",
    ")\n",
    "\n",
    "model.add(\n",
    "    tf.keras.layers.Dense(\n",
    "    units=50,\n",
    "    input_dim=100,\n",
    "    kernel_initializer='glorot_uniform',\n",
    "    bias_initializer='zeros',\n",
    "    activation='tanh'\n",
    "    )\n",
    ")\n",
    "\n",
    "model.add(\n",
    "    tf.keras.layers.Dense(\n",
    "    units=30,\n",
    "    input_dim=50,\n",
    "    kernel_initializer='glorot_uniform',\n",
    "    bias_initializer='zeros',\n",
    "    activation='tanh'\n",
    "    )\n",
    ")\n",
    "\n",
    "model.add(\n",
    "    tf.keras.layers.Dense(\n",
    "    units=20,\n",
    "    input_dim=30,\n",
    "    kernel_initializer='glorot_uniform',\n",
    "    bias_initializer='zeros',\n",
    "    activation='tanh'\n",
    "    )\n",
    ")\n",
    "\"\"\"\n",
    "\n",
    "model.add(\n",
    "    tf.keras.layers.Dense(\n",
    "    units=y_train_onehot.shape[1],\n",
    "    input_dim=30,\n",
    "    kernel_initializer='glorot_uniform',\n",
    "    bias_initializer='zeros',\n",
    "    activation='softmax'\n",
    "    )\n",
    ")\n"
   ]
  },
  {
   "cell_type": "code",
   "execution_count": 263,
   "metadata": {},
   "outputs": [
    {
     "name": "stdout",
     "output_type": "stream",
     "text": [
      "Model: \"sequential_32\"\n",
      "_________________________________________________________________\n",
      "Layer (type)                 Output Shape              Param #   \n",
      "=================================================================\n",
      "dense_158 (Dense)            (None, 50)                750       \n",
      "_________________________________________________________________\n",
      "dense_159 (Dense)            (None, 50)                2550      \n",
      "_________________________________________________________________\n",
      "dropout_2 (Dropout)          (None, 50)                0         \n",
      "_________________________________________________________________\n",
      "dense_160 (Dense)            (None, 2)                 102       \n",
      "=================================================================\n",
      "Total params: 3,402\n",
      "Trainable params: 3,402\n",
      "Non-trainable params: 0\n",
      "_________________________________________________________________\n"
     ]
    }
   ],
   "source": [
    "model.summary()"
   ]
  },
  {
   "cell_type": "code",
   "execution_count": 238,
   "metadata": {},
   "outputs": [
    {
     "name": "stderr",
     "output_type": "stream",
     "text": [
      "C:\\Users\\yong\\AppData\\Roaming\\Python\\Python38\\site-packages\\tensorflow\\python\\keras\\optimizer_v2\\optimizer_v2.py:374: UserWarning: The `lr` argument is deprecated, use `learning_rate` instead.\n",
      "  warnings.warn(\n"
     ]
    }
   ],
   "source": [
    "sgd_optimizer = tf.keras.optimizers.SGD(lr=0.001, decay=1e-7, momentum=.9)"
   ]
  },
  {
   "cell_type": "code",
   "execution_count": 269,
   "metadata": {},
   "outputs": [],
   "source": [
    "#model.compile(optimizer=sgd_optimizer,metrics=['accuracy'], loss='categorical_crossentropy')\n",
    "model.compile(optimizer='adam',metrics=['accuracy'], loss=\"categorical_crossentropy\")\n"
   ]
  },
  {
   "cell_type": "code",
   "execution_count": 270,
   "metadata": {},
   "outputs": [
    {
     "name": "stdout",
     "output_type": "stream",
     "text": [
      "Epoch 1/10\n",
      "319/319 [==============================] - 1s 3ms/step - loss: 0.4370 - accuracy: 0.7967 - val_loss: 0.3754 - val_accuracy: 0.8347\n",
      "Epoch 2/10\n",
      "319/319 [==============================] - 1s 3ms/step - loss: 0.3665 - accuracy: 0.8321 - val_loss: 0.3538 - val_accuracy: 0.8329\n",
      "Epoch 3/10\n",
      "319/319 [==============================] - 1s 3ms/step - loss: 0.3503 - accuracy: 0.8371 - val_loss: 0.3469 - val_accuracy: 0.8364\n",
      "Epoch 4/10\n",
      "319/319 [==============================] - 1s 3ms/step - loss: 0.3422 - accuracy: 0.8386 - val_loss: 0.3524 - val_accuracy: 0.8347\n",
      "Epoch 5/10\n",
      "319/319 [==============================] - 1s 3ms/step - loss: 0.3401 - accuracy: 0.8396 - val_loss: 0.3401 - val_accuracy: 0.8408\n",
      "Epoch 6/10\n",
      "319/319 [==============================] - 1s 3ms/step - loss: 0.3328 - accuracy: 0.8427 - val_loss: 0.3401 - val_accuracy: 0.8391\n",
      "Epoch 7/10\n",
      "319/319 [==============================] - 1s 3ms/step - loss: 0.3323 - accuracy: 0.8437 - val_loss: 0.3399 - val_accuracy: 0.8417\n",
      "Epoch 8/10\n",
      "319/319 [==============================] - 1s 3ms/step - loss: 0.3304 - accuracy: 0.8452 - val_loss: 0.3462 - val_accuracy: 0.8435\n",
      "Epoch 9/10\n",
      "319/319 [==============================] - 1s 3ms/step - loss: 0.3272 - accuracy: 0.8438 - val_loss: 0.3394 - val_accuracy: 0.8338\n",
      "Epoch 10/10\n",
      "319/319 [==============================] - 1s 3ms/step - loss: 0.3244 - accuracy: 0.8488 - val_loss: 0.3375 - val_accuracy: 0.8462\n"
     ]
    }
   ],
   "source": [
    "from keras.callbacks import EarlyStopping\n",
    "\n",
    "#early_stopping = EarlyStopping()\n",
    "history = model.fit(X_train_centered, y_train_onehot, batch_size=32, epochs=10, verbose=1, validation_split=0.1)"
   ]
  },
  {
   "cell_type": "code",
   "execution_count": null,
   "metadata": {},
   "outputs": [],
   "source": []
  },
  {
   "cell_type": "code",
   "execution_count": 271,
   "metadata": {},
   "outputs": [
    {
     "name": "stderr",
     "output_type": "stream",
     "text": [
      "C:\\Users\\yong\\AppData\\Roaming\\Python\\Python38\\site-packages\\tensorflow\\python\\keras\\engine\\sequential.py:455: UserWarning: `model.predict_classes()` is deprecated and will be removed after 2021-01-01. Please use instead:* `np.argmax(model.predict(x), axis=-1)`,   if your model does multi-class classification   (e.g. if it uses a `softmax` last-layer activation).* `(model.predict(x) > 0.5).astype(\"int32\")`,   if your model does binary classification   (e.g. if it uses a `sigmoid` last-layer activation).\n",
      "  warnings.warn('`model.predict_classes()` is deprecated and '\n"
     ]
    },
    {
     "name": "stdout",
     "output_type": "stream",
     "text": [
      "train 최종 결과 0.8511936339522547\n",
      "test 최종 결과 0.8350570140546274\n"
     ]
    },
    {
     "name": "stderr",
     "output_type": "stream",
     "text": [
      "C:\\Users\\yong\\AppData\\Roaming\\Python\\Python38\\site-packages\\tensorflow\\python\\keras\\engine\\sequential.py:455: UserWarning: `model.predict_classes()` is deprecated and will be removed after 2021-01-01. Please use instead:* `np.argmax(model.predict(x), axis=-1)`,   if your model does multi-class classification   (e.g. if it uses a `softmax` last-layer activation).* `(model.predict(x) > 0.5).astype(\"int32\")`,   if your model does binary classification   (e.g. if it uses a `sigmoid` last-layer activation).\n",
      "  warnings.warn('`model.predict_classes()` is deprecated and '\n"
     ]
    }
   ],
   "source": [
    "y_train_pred= model.predict_classes(X_train_centered, verbose=0)\n",
    "correct_preds = np.sum(Y_train == y_train_pred, axis=0)\n",
    "\n",
    "train_acc = correct_preds / Y_train.shape[0]\n",
    "\n",
    "y_test_pred= model.predict_classes(X_test_centered, verbose=0)\n",
    "correct_preds = np.sum(Y_test == y_test_pred, axis=0)\n",
    "\n",
    "test_acc = correct_preds / Y_test.shape[0]\n",
    "\n",
    "print(\"train 최종 결과\", train_acc)\n",
    "print(\"test 최종 결과\", test_acc)"
   ]
  },
  {
   "cell_type": "code",
   "execution_count": 193,
   "metadata": {},
   "outputs": [],
   "source": [
    "#훈련용 데이터 전부 사용\n",
    "mean_vals = np.mean(x_train, axis=0)\n",
    "std_val = np.std(x_train)\n",
    "\n",
    "result_centered = (x_train  - mean_vals) / std_val\n",
    "\n",
    "result_onehot = tf.keras.utils.to_categorical(y_train)\n",
    "\n"
   ]
  },
  {
   "cell_type": "code",
   "execution_count": 242,
   "metadata": {},
   "outputs": [
    {
     "name": "stdout",
     "output_type": "stream",
     "text": [
      "Epoch 1/20\n",
      "252/252 [==============================] - 1s 3ms/step - loss: 0.3209 - accuracy: 0.8502 - val_loss: 0.3122 - val_accuracy: 0.8518\n",
      "Epoch 2/20\n",
      "252/252 [==============================] - 1s 3ms/step - loss: 0.3174 - accuracy: 0.8511 - val_loss: 0.3163 - val_accuracy: 0.8512\n",
      "Epoch 3/20\n",
      "252/252 [==============================] - 1s 3ms/step - loss: 0.3160 - accuracy: 0.8525 - val_loss: 0.3166 - val_accuracy: 0.8485\n",
      "Epoch 4/20\n",
      "252/252 [==============================] - 1s 3ms/step - loss: 0.3147 - accuracy: 0.8529 - val_loss: 0.3149 - val_accuracy: 0.8528\n",
      "Epoch 5/20\n",
      "252/252 [==============================] - 1s 3ms/step - loss: 0.3131 - accuracy: 0.8538 - val_loss: 0.3175 - val_accuracy: 0.8499\n",
      "Epoch 6/20\n",
      "252/252 [==============================] - 1s 3ms/step - loss: 0.3119 - accuracy: 0.8520 - val_loss: 0.3189 - val_accuracy: 0.8402\n",
      "Epoch 7/20\n",
      "252/252 [==============================] - 1s 3ms/step - loss: 0.3122 - accuracy: 0.8534 - val_loss: 0.3173 - val_accuracy: 0.8419\n",
      "Epoch 8/20\n",
      "252/252 [==============================] - 1s 3ms/step - loss: 0.3092 - accuracy: 0.8537 - val_loss: 0.3191 - val_accuracy: 0.8406\n",
      "Epoch 9/20\n",
      "252/252 [==============================] - 1s 3ms/step - loss: 0.3070 - accuracy: 0.8573 - val_loss: 0.3204 - val_accuracy: 0.8485\n",
      "Epoch 10/20\n",
      "252/252 [==============================] - 1s 3ms/step - loss: 0.3058 - accuracy: 0.8597 - val_loss: 0.3249 - val_accuracy: 0.8409\n",
      "Epoch 11/20\n",
      "252/252 [==============================] - 1s 3ms/step - loss: 0.3038 - accuracy: 0.8588 - val_loss: 0.3241 - val_accuracy: 0.8439\n",
      "Epoch 12/20\n",
      "252/252 [==============================] - 1s 3ms/step - loss: 0.3038 - accuracy: 0.8594 - val_loss: 0.3235 - val_accuracy: 0.8462\n",
      "Epoch 13/20\n",
      "252/252 [==============================] - 1s 3ms/step - loss: 0.3031 - accuracy: 0.8595 - val_loss: 0.3192 - val_accuracy: 0.8409\n",
      "Epoch 14/20\n",
      "252/252 [==============================] - 1s 3ms/step - loss: 0.2988 - accuracy: 0.8622 - val_loss: 0.3260 - val_accuracy: 0.8452\n",
      "Epoch 15/20\n",
      "252/252 [==============================] - 1s 3ms/step - loss: 0.2980 - accuracy: 0.8607 - val_loss: 0.3188 - val_accuracy: 0.8479\n",
      "Epoch 16/20\n",
      "252/252 [==============================] - 1s 3ms/step - loss: 0.2962 - accuracy: 0.8611 - val_loss: 0.3301 - val_accuracy: 0.8412\n",
      "Epoch 17/20\n",
      "252/252 [==============================] - 1s 3ms/step - loss: 0.2950 - accuracy: 0.8634 - val_loss: 0.3207 - val_accuracy: 0.8449\n",
      "Epoch 18/20\n",
      "252/252 [==============================] - 1s 3ms/step - loss: 0.2946 - accuracy: 0.8638 - val_loss: 0.3271 - val_accuracy: 0.8432\n",
      "Epoch 19/20\n",
      "252/252 [==============================] - 1s 3ms/step - loss: 0.2917 - accuracy: 0.8662 - val_loss: 0.3277 - val_accuracy: 0.8389\n",
      "Epoch 20/20\n",
      "252/252 [==============================] - 1s 3ms/step - loss: 0.2912 - accuracy: 0.8673 - val_loss: 0.3252 - val_accuracy: 0.8442\n"
     ]
    }
   ],
   "source": [
    "history = model.fit(result_centered, result_onehot, batch_size=48, epochs=20, verbose=1, validation_split=0.2)"
   ]
  },
  {
   "cell_type": "code",
   "execution_count": 151,
   "metadata": {},
   "outputs": [
    {
     "name": "stderr",
     "output_type": "stream",
     "text": [
      "C:\\Users\\yong\\AppData\\Roaming\\Python\\Python38\\site-packages\\tensorflow\\python\\keras\\engine\\sequential.py:455: UserWarning: `model.predict_classes()` is deprecated and will be removed after 2021-01-01. Please use instead:* `np.argmax(model.predict(x), axis=-1)`,   if your model does multi-class classification   (e.g. if it uses a `softmax` last-layer activation).* `(model.predict(x) > 0.5).astype(\"int32\")`,   if your model does binary classification   (e.g. if it uses a `sigmoid` last-layer activation).\n",
      "  warnings.warn('`model.predict_classes()` is deprecated and '\n"
     ]
    }
   ],
   "source": [
    "#초기 신경망 데이터 제출용\n",
    "\n",
    "mean_vals = np.mean(test_data, axis=0)\n",
    "std_val = np.std(test_data)\n",
    "\n",
    "test_centered = (test_data  - mean_vals) / std_val\n",
    "test_pred= model.predict_classes(test_centered, verbose=0)\n"
   ]
  },
  {
   "cell_type": "code",
   "execution_count": 152,
   "metadata": {},
   "outputs": [],
   "source": [
    "result = pd.DataFrame({'target': test_pred})\n",
    "result.to_csv('day3_result.csv')"
   ]
  },
  {
   "cell_type": "code",
   "execution_count": 75,
   "metadata": {},
   "outputs": [
    {
     "name": "stdout",
     "output_type": "stream",
     "text": [
      "0.8502210433244916\n"
     ]
    }
   ],
   "source": [
    "#첫 신경망 결과 0.85\n",
    "\n",
    "print(train_acc)"
   ]
  },
  {
   "cell_type": "code",
   "execution_count": null,
   "metadata": {},
   "outputs": [],
   "source": []
  }
 ],
 "metadata": {
  "kernelspec": {
   "display_name": "Python 3",
   "language": "python",
   "name": "python3"
  },
  "language_info": {
   "codemirror_mode": {
    "name": "ipython",
    "version": 3
   },
   "file_extension": ".py",
   "mimetype": "text/x-python",
   "name": "python",
   "nbconvert_exporter": "python",
   "pygments_lexer": "ipython3",
   "version": "3.8.5"
  }
 },
 "nbformat": 4,
 "nbformat_minor": 4
}
