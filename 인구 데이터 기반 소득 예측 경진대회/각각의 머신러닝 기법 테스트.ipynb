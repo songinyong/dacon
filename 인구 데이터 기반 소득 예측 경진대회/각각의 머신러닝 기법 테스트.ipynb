{
 "cells": [
  {
   "cell_type": "code",
   "execution_count": 1,
   "metadata": {},
   "outputs": [],
   "source": [
    "import pandas as pd"
   ]
  },
  {
   "cell_type": "code",
   "execution_count": 40,
   "metadata": {},
   "outputs": [
    {
     "name": "stdout",
     "output_type": "stream",
     "text": [
      "훈련용 데이터 크기: (17480, 16)\n",
      "테스트용 데이터 크기: (15081, 15)\n"
     ]
    }
   ],
   "source": [
    "#데이터 불러오기 및 크기 확인\n",
    "train_data = pd.read_csv('train.csv')\n",
    "test_data = pd.read_csv('test.csv')\n",
    "\n",
    "print(\"훈련용 데이터 크기:\", train_data.shape)\n",
    "print(\"테스트용 데이터 크기:\", test_data.shape)\n",
    "\n"
   ]
  },
  {
   "cell_type": "code",
   "execution_count": 41,
   "metadata": {},
   "outputs": [
    {
     "name": "stdout",
     "output_type": "stream",
     "text": [
      "결측치가 있는 컬럼은: workclass 입니다\n",
      "해당 컬럼에 총 1836 개의 결측치가 존재합니다.\n",
      "결측치가 있는 컬럼은: occupation 입니다\n",
      "해당 컬럼에 총 1843 개의 결측치가 존재합니다.\n",
      "결측치가 있는 컬럼은: native.country 입니다\n",
      "해당 컬럼에 총 583 개의 결측치가 존재합니다.\n",
      "[['workclass', dtype('O')], ['occupation', dtype('O')], ['native.country', dtype('O')]]\n"
     ]
    }
   ],
   "source": [
    "#결측치 제거 함수\n",
    "\n",
    "def check_missing_col(dataframe):\n",
    "    missing_col = []\n",
    "    for col in dataframe.columns:\n",
    "        missing_values = sum(dataframe[col].isna())\n",
    "        is_missing = True if missing_values >= 1 else False\n",
    "        if is_missing:\n",
    "            print(f'결측치가 있는 컬럼은: {col} 입니다')\n",
    "            print(f'해당 컬럼에 총 {missing_values} 개의 결측치가 존재합니다.')\n",
    "            missing_col.append([col, dataframe[col].dtype])\n",
    "    if missing_col == []:\n",
    "        print('결측치가 존재하지 않습니다')\n",
    "    return missing_col\n",
    "\n",
    "\n",
    "missing_col = check_missing_col(train_data)\n",
    "print(missing_col)\n",
    "\n",
    "train_data.dropna(axis=0,subset=['workclass','occupation','native.country'],inplace = True)"
   ]
  },
  {
   "cell_type": "code",
   "execution_count": 42,
   "metadata": {},
   "outputs": [
    {
     "name": "stdout",
     "output_type": "stream",
     "text": [
      "훈련용 데이터: (15081, 14)\n",
      "테스트용 라벨: (15081,)\n"
     ]
    }
   ],
   "source": [
    "\n",
    "x_train = train_data.drop(['id', 'target'], axis=1)\n",
    "y_train = train_data['target']\n",
    "\n",
    "test_data=test_data.drop(['id'], axis=1)\n",
    "\n",
    "\n",
    "print(\"훈련용 데이터:\", x_train.shape)\n",
    "print(\"테스트용 라벨:\", y_train.shape)"
   ]
  },
  {
   "cell_type": "code",
   "execution_count": 22,
   "metadata": {},
   "outputs": [
    {
     "name": "stdout",
     "output_type": "stream",
     "text": [
      "훈련용 데이터: (15080, 14)\n",
      "테스트용 라벨: (15080,)\n",
      "결과 확인용 라벨: (15081, 14)\n"
     ]
    }
   ],
   "source": [
    "print(\"훈련용 데이터:\", x_train.shape)\n",
    "print(\"테스트용 라벨:\", y_train.shape)\n",
    "print(\"결과 확인용 라벨:\",test_data.shape)"
   ]
  },
  {
   "cell_type": "code",
   "execution_count": 43,
   "metadata": {},
   "outputs": [],
   "source": [
    "#라벨인코딩을 하기 위함 dictionary map 생성 함수\n",
    "def make_label_map(dataframe):\n",
    "    label_maps = {}\n",
    "    for col in dataframe.columns:\n",
    "        if dataframe[col].dtype=='object':\n",
    "            label_map = {'unknown':0}\n",
    "            for i, key in enumerate(dataframe[col].unique()):\n",
    "                label_map[key] = i  #새로 등장하는 유니크 값들에 대해 1부터 1씩 증가시켜 키값을 부여해줍니다.\n",
    "            label_maps[col] = label_map\n",
    "    return label_maps\n",
    "\n",
    "# 각 범주형 변수에 인코딩 값을 부여하는 함수\n",
    "def label_encoder(dataframe, label_map):\n",
    "    for col in dataframe.columns:\n",
    "        if dataframe[col].dtype=='object':\n",
    "            dataframe[col] = dataframe[col].map(label_map[col])\n",
    "            #dataframe[col] = dataframe[col].fillna(label_map[col]['unknown']) #혹시 모를 결측값은 unknown의 값(0)으로 채워줍니다.\n",
    "    return dataframe\n",
    "\n",
    "x_train = label_encoder(x_train, make_label_map(x_train))\n",
    "\n",
    "#제출용 라벨링 데이터 변환\n",
    "test_data = label_encoder(test_data, make_label_map(test_data))"
   ]
  },
  {
   "cell_type": "code",
   "execution_count": 44,
   "metadata": {},
   "outputs": [],
   "source": [
    "from sklearn.model_selection import train_test_split\n",
    "X_train, X_test, Y_train,Y_test = train_test_split(x_train, y_train, random_state=22)"
   ]
  },
  {
   "cell_type": "code",
   "execution_count": 50,
   "metadata": {},
   "outputs": [
    {
     "data": {
      "text/plain": [
       "KNeighborsClassifier()"
      ]
     },
     "execution_count": 50,
     "metadata": {},
     "output_type": "execute_result"
    }
   ],
   "source": [
    "#knn 최근접 이웃 분석\n",
    "from sklearn.neighbors import KNeighborsClassifier\n",
    "clf = KNeighborsClassifier(n_neighbors=5)\n",
    "clf.fit(X_train, Y_train)"
   ]
  },
  {
   "cell_type": "code",
   "execution_count": 51,
   "metadata": {},
   "outputs": [
    {
     "name": "stdout",
     "output_type": "stream",
     "text": [
      "테스트 정확도: 0.763\n"
     ]
    }
   ],
   "source": [
    "print(\"테스트 정확도: {:.3f}\".format(clf.score(X_test, Y_test)))"
   ]
  },
  {
   "cell_type": "code",
   "execution_count": 56,
   "metadata": {},
   "outputs": [
    {
     "name": "stdout",
     "output_type": "stream",
     "text": [
      "테스트 정확도: 0.792\n"
     ]
    }
   ],
   "source": [
    "#로지스틱 회귀\n",
    "from sklearn.linear_model import LogisticRegression\n",
    "logreg = LogisticRegression(C=0.01).fit(X_train, Y_train)\n",
    "\n",
    "print(\"테스트 정확도: {:.3f}\".format(logreg.score(X_test, Y_test)))\n"
   ]
  },
  {
   "cell_type": "code",
   "execution_count": 61,
   "metadata": {},
   "outputs": [
    {
     "name": "stdout",
     "output_type": "stream",
     "text": [
      "깊이 2  훈련세트 정확도: 0.826\n",
      "깊이 2  테스트 정확도: 0.815\n",
      "깊이 4  훈련세트 정확도: 0.840\n",
      "깊이 4  테스트 정확도: 0.830\n",
      "깊이 8  훈련세트 정확도: 0.859\n",
      "깊이 8  테스트 정확도: 0.837\n",
      "깊이 12  훈련세트 정확도: 0.893\n",
      "깊이 12  테스트 정확도: 0.827\n"
     ]
    }
   ],
   "source": [
    "#결정 트리\n",
    "from sklearn.tree import DecisionTreeClassifier\n",
    "\n",
    "max_depth=[2,4,8,12]\n",
    "\n",
    "for i in max_depth : \n",
    "\n",
    "    tree = DecisionTreeClassifier(max_depth=i, random_state=0)\n",
    "    tree.fit(X_train, Y_train)\n",
    "    print(\"깊이\",i, \" 훈련세트 정확도: {:.3f}\".format(tree.score(X_train, Y_train)))\n",
    "    print(\"깊이\",i,\" 테스트 정확도: {:.3f}\".format(tree.score(X_test, Y_test)))"
   ]
  },
  {
   "cell_type": "code",
   "execution_count": 62,
   "metadata": {},
   "outputs": [
    {
     "name": "stdout",
     "output_type": "stream",
     "text": [
      "깊이 12  훈련세트 정확도: 0.859\n",
      "깊이 12  테스트 정확도: 0.837\n",
      "특성 중요도:\n",
      " [0.05400141 0.00471263 0.01451146 0.00278002 0.22173479 0.39361079\n",
      " 0.02118163 0.00514252 0.00071486 0.00188837 0.18839113 0.05203551\n",
      " 0.03373379 0.00556108]\n"
     ]
    }
   ],
   "source": [
    "tree = DecisionTreeClassifier(max_depth=8, random_state=0)\n",
    "tree.fit(X_train, Y_train)\n",
    "print(\"깊이\",i, \" 훈련세트 정확도: {:.3f}\".format(tree.score(X_train, Y_train)))\n",
    "print(\"깊이\",i,\" 테스트 정확도: {:.3f}\".format(tree.score(X_test, Y_test)))\n",
    "\n",
    "print(\"특성 중요도:\\n\", tree.feature_importances_)\n",
    "    "
   ]
  },
  {
   "cell_type": "code",
   "execution_count": 67,
   "metadata": {},
   "outputs": [
    {
     "name": "stdout",
     "output_type": "stream",
     "text": [
      "깊이 100  훈련세트 정확도: 1.000\n",
      "깊이 100  테스트 정확도: 0.848\n",
      "깊이 200  훈련세트 정확도: 1.000\n",
      "깊이 200  테스트 정확도: 0.848\n",
      "깊이 400  훈련세트 정확도: 1.000\n",
      "깊이 400  테스트 정확도: 0.848\n",
      "깊이 800  훈련세트 정확도: 1.000\n",
      "깊이 800  테스트 정확도: 0.848\n",
      "깊이 1200  훈련세트 정확도: 1.000\n",
      "깊이 1200  테스트 정확도: 0.848\n"
     ]
    }
   ],
   "source": [
    "#랜덤 포레스트 트리 분석\n",
    "from sklearn.ensemble import RandomForestClassifier\n",
    "from sklearn.datasets import make_moons\n",
    "\n",
    "max_depth=[100,200,400,800,1200]\n",
    "\n",
    "for i in max_depth : \n",
    "\n",
    "    forest = RandomForestClassifier(n_estimators=100, random_state=8)\n",
    "    forest.fit(X_train, Y_train)\n",
    "\n",
    "    print(\"깊이\",i, \" 훈련세트 정확도: {:.3f}\".format(forest.score(X_train, Y_train)))\n",
    "    print(\"깊이\",i, \" 테스트 정확도: {:.3f}\".format(forest.score(X_test, Y_test)))"
   ]
  },
  {
   "cell_type": "code",
   "execution_count": 68,
   "metadata": {},
   "outputs": [
    {
     "name": "stdout",
     "output_type": "stream",
     "text": [
      "깊이  훈련세트 정확도: 0.868\n",
      "깊이  테스트 정확도: 0.851\n"
     ]
    }
   ],
   "source": [
    "#그레이디언트 부스팅 회귀 트리 분석\n",
    "from sklearn.ensemble import GradientBoostingClassifier\n",
    "\n",
    "gbrt = GradientBoostingClassifier(random_state=0)\n",
    "gbrt.fit(X_train, Y_train)\n",
    "\n",
    "print(\"깊이\", \" 훈련세트 정확도: {:.3f}\".format(gbrt.score(X_train, Y_train)))\n",
    "print(\"깊이\", \" 테스트 정확도: {:.3f}\".format(gbrt.score(X_test, Y_test)))"
   ]
  },
  {
   "cell_type": "code",
   "execution_count": 74,
   "metadata": {},
   "outputs": [
    {
     "name": "stdout",
     "output_type": "stream",
     "text": [
      "최고치 5 learning_rate:  0.1\n",
      "0.8900972590627763   0.8631662688941926\n"
     ]
    }
   ],
   "source": [
    "max_depth=[1,5,10,20,50,100]\n",
    "learning_rate=[0.01, 0.1, 1, 10]\n",
    "\n",
    "max_accur =0;\n",
    "max_accur_test=0;\n",
    "depth =0;\n",
    "learning_rates = 0;\n",
    "for i in max_depth : \n",
    "    for j in learning_rate : \n",
    "        gbrt = GradientBoostingClassifier(random_state=0, max_depth= i, learning_rate= j)\n",
    "        gbrt.fit(X_train, Y_train)\n",
    "\n",
    "        #print(\"깊이\", \" 훈련세트 정확도: {:.3f}\".format(gbrt.score(X_train, Y_train)))\n",
    "        #print(\"깊이\", \" 테스트 정확도: {:.3f}\".format(gbrt.score(X_test, Y_test)))  \n",
    "        temp =gbrt.score(X_test, Y_test)\n",
    "        if(max_accur_test <temp):\n",
    "            max_accur = gbrt.score(X_train, Y_train)\n",
    "            max_accur_test = temp\n",
    "            depth = i;\n",
    "            learning_rates = j;\n",
    "            \n",
    "print(\"최고치\", depth, \"learning_rate: \", learning_rates)\n",
    "print(max_accur, \" \", max_accur_test)\n",
    "            "
   ]
  },
  {
   "cell_type": "code",
   "execution_count": 75,
   "metadata": {},
   "outputs": [
    {
     "data": {
      "text/plain": [
       "GradientBoostingClassifier(max_depth=5, random_state=0)"
      ]
     },
     "execution_count": 75,
     "metadata": {},
     "output_type": "execute_result"
    }
   ],
   "source": [
    "#1일차 제출용 그레디언트 부스팅 회귀 트리\n",
    "gbrt = GradientBoostingClassifier(random_state=0, max_depth= 5, learning_rate= 0.1)\n",
    "gbrt.fit(x_train, y_train)\n",
    "\n"
   ]
  },
  {
   "cell_type": "code",
   "execution_count": 76,
   "metadata": {},
   "outputs": [
    {
     "data": {
      "text/plain": [
       "array([1, 0, 1, ..., 0, 0, 0], dtype=int64)"
      ]
     },
     "execution_count": 76,
     "metadata": {},
     "output_type": "execute_result"
    }
   ],
   "source": [
    "gbrt.predict(test_data)"
   ]
  },
  {
   "cell_type": "code",
   "execution_count": 77,
   "metadata": {},
   "outputs": [],
   "source": [
    "result = pd.DataFrame({'target': gbrt.predict(test_data)})"
   ]
  },
  {
   "cell_type": "code",
   "execution_count": 78,
   "metadata": {},
   "outputs": [],
   "source": [
    "result.to_csv('day1_result.csv')"
   ]
  },
  {
   "cell_type": "code",
   "execution_count": 79,
   "metadata": {},
   "outputs": [
    {
     "name": "stdout",
     "output_type": "stream",
     "text": [
      "깊이  훈련세트 정확도: 0.778\n",
      "깊이  테스트 정확도: 0.781\n"
     ]
    }
   ],
   "source": [
    "# SVM 분석\n",
    "from sklearn.svm import SVC\n",
    "\n",
    "svc =SVC()\n",
    "svc.fit(X_train, Y_train)\n",
    "\n",
    "print(\"깊이\", \" 훈련세트 정확도: {:.3f}\".format(svc.score(X_train, Y_train)))\n",
    "print(\"깊이\", \" 테스트 정확도: {:.3f}\".format(svc.score(X_test, Y_test)))"
   ]
  },
  {
   "cell_type": "code",
   "execution_count": 81,
   "metadata": {},
   "outputs": [
    {
     "name": "stdout",
     "output_type": "stream",
     "text": [
      "깊이  훈련세트 정확도: 0.844\n",
      "깊이  테스트 정확도: 0.834\n"
     ]
    }
   ],
   "source": [
    "min_on_training =X_train.min(axis=0)\n",
    "range_on_training = (X_train - min_on_training).max(axis=0)\n",
    "\n",
    "X_train_scaled = (X_train - min_on_training) / range_on_training\n",
    "X_test_scaled = (X_test - min_on_training) / range_on_training\n",
    "\n",
    "svc =SVC()\n",
    "svc.fit(X_train_scaled, Y_train)\n",
    "print(\"깊이\", \" 훈련세트 정확도: {:.3f}\".format(svc.score(X_train_scaled, Y_train)))\n",
    "print(\"깊이\", \" 테스트 정확도: {:.3f}\".format(svc.score(X_test_scaled, Y_test)))"
   ]
  },
  {
   "cell_type": "code",
   "execution_count": 85,
   "metadata": {},
   "outputs": [
    {
     "name": "stdout",
     "output_type": "stream",
     "text": [
      "깊이  훈련세트 정확도: 0.866\n",
      "깊이  테스트 정확도: 0.840\n"
     ]
    }
   ],
   "source": [
    "svc =SVC(C=50)\n",
    "svc.fit(X_train_scaled, Y_train)\n",
    "print(\"깊이\", \" 훈련세트 정확도: {:.3f}\".format(svc.score(X_train_scaled, Y_train)))\n",
    "print(\"깊이\", \" 테스트 정확도: {:.3f}\".format(svc.score(X_test_scaled, Y_test)))"
   ]
  },
  {
   "cell_type": "code",
   "execution_count": 91,
   "metadata": {},
   "outputs": [
    {
     "name": "stdout",
     "output_type": "stream",
     "text": [
      "훈련세트 정확도: 0.875\n",
      "테스트 정확도: 0.864\n"
     ]
    }
   ],
   "source": [
    "#에이다 부스트\n",
    "#머신러닝 알고리즘 테스트 마지막\n",
    "from sklearn.ensemble import AdaBoostClassifier\n",
    "ada = AdaBoostClassifier(n_estimators=2000, random_state=45)\n",
    "ada.fit(X_train, Y_train)\n",
    "print(\"훈련세트 정확도: {:.3f}\".format(ada.score(X_train, Y_train)))\n",
    "print(\"테스트 정확도: {:.3f}\".format(ada.score(X_test, Y_test)))"
   ]
  },
  {
   "cell_type": "code",
   "execution_count": null,
   "metadata": {},
   "outputs": [],
   "source": []
  }
 ],
 "metadata": {
  "kernelspec": {
   "display_name": "Python 3",
   "language": "python",
   "name": "python3"
  },
  "language_info": {
   "codemirror_mode": {
    "name": "ipython",
    "version": 3
   },
   "file_extension": ".py",
   "mimetype": "text/x-python",
   "name": "python",
   "nbconvert_exporter": "python",
   "pygments_lexer": "ipython3",
   "version": "3.8.5"
  }
 },
 "nbformat": 4,
 "nbformat_minor": 4
}
