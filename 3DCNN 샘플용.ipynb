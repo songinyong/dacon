{
 "cells": [
  {
   "cell_type": "markdown",
   "id": "f679977f",
   "metadata": {},
   "source": [
    "#3DCNN용 동영상 전용 데이터 정제 라이브러리가 없어서\n",
    "2DCNN과 달리 분석용으로 데이터를 변환하고 모델을 생성하였습니다.\n"
   ]
  },
  {
   "cell_type": "code",
   "execution_count": 37,
   "id": "28c75384",
   "metadata": {},
   "outputs": [],
   "source": [
    "import numpy as np\n",
    "import pandas as pd\n",
    "import matplotlib.pyplot as plt\n",
    "import h5py\n",
    "\n",
    "import os\n",
    "import cv2\n",
    "from tensorflow.keras.preprocessing import image\n",
    "import tensorflow.keras\n",
    "import tensorflow as tf"
   ]
  },
  {
   "cell_type": "code",
   "execution_count": 5,
   "id": "5b208bc5",
   "metadata": {},
   "outputs": [],
   "source": [
    "from tensorflow.keras import layers\n",
    "from tensorflow.keras import models\n",
    "from tensorflow.keras import regularizers\n",
    "from tensorflow.keras.layers import BatchNormalization, Dropout, Activation, InputLayer, Dense, Flatten, Conv3D, MaxPooling3D\n",
    "from keras.models import Sequential\n",
    "\n",
    "\n",
    "from tensorflow.keras.optimizers import Adam"
   ]
  },
  {
   "cell_type": "code",
   "execution_count": 23,
   "id": "8c4f9636",
   "metadata": {},
   "outputs": [
    {
     "name": "stdout",
     "output_type": "stream",
     "text": [
      "length : 141\n",
      "width : 1280\n",
      "height : 720\n",
      "fps : 29.970029\n"
     ]
    }
   ],
   "source": [
    "# opencv 동영상 정보 확인\n",
    "\n",
    "video = cv2.VideoCapture('data/KETI_SL_0000000001.avi', cv2.IMREAD_GRAYSCALE)\n",
    "\n",
    "length = int(video.get(cv2.CAP_PROP_FRAME_COUNT))\n",
    "width = int(video.get(cv2.CAP_PROP_FRAME_WIDTH))\n",
    "height = int(video.get(cv2.CAP_PROP_FRAME_HEIGHT))\n",
    "fps = video.get(cv2.CAP_PROP_FPS)\n",
    "\n",
    "print(\"length :\", length)\n",
    "print(\"width :\", width)\n",
    "print(\"height :\", height)\n",
    "print(\"fps :\", fps)"
   ]
  },
  {
   "cell_type": "code",
   "execution_count": 43,
   "id": "50f9ee94",
   "metadata": {},
   "outputs": [],
   "source": [
    "#폴더 내 훈련용 데이터셋 확인\n",
    "#샘플용으론 임시적으로 0~9까지의 데이터만 임의로 가져왔습니다.\n",
    "\n",
    "directory = 'C:/Users/Chicken is Right/Desktop/opencv/data'\n",
    "file_list = os.listdir(directory)\n",
    "file_label = [0,1,2,3,4,5,6,7,8,9] # 별도의 csv가 있지만 샘플용으론 라벨용 리스트를 생성하였습니다."
   ]
  },
  {
   "cell_type": "code",
   "execution_count": 46,
   "id": "4bc7da4c",
   "metadata": {},
   "outputs": [],
   "source": [
    "# 3DCNN용 데이터 정제 부분\n",
    "count = 0\n",
    "train_data = [] #전체 훈련용 데이터\n",
    "tentative_data = [] # 훈련용 영상 데이터 6프레임 단위로 저장\n",
    "test_data = [] #라벨 저장\n",
    "\n",
    "for i in range(0, len(file_list)) :\n",
    "    video = cv2.VideoCapture(directory + '/' + file_list[i] )\n",
    "    label = file_label[i]\n",
    "    \n",
    "\n",
    "    while(video.isOpened()):\n",
    "        ret, image = video.read()\n",
    "\n",
    "        if (ret is True) :\n",
    "\n",
    "            video_fps = video.get(cv2.CAP_PROP_FRAME_COUNT)\n",
    "\n",
    "            if(int(video.get(1)) % 6 == 0 and int(video_fps)-30 > int(video.get(1)) ): #6fps 단위로 불러옴, 공통적으로 들어있는 마지막 1초 정지 영상은 무시함\n",
    "\n",
    "                #dst = cv2.cvtColor(image, cv2.COLOR_BGR2GRAY)\n",
    "                dst = cv2.cvtColor(image, cv2.COLOR_BGR2RGB)\n",
    "                resize_img = cv2.resize(dst, (225, 225))\n",
    "                            #cv2.imwrite(\"%d.jpg\" % count, dst)\n",
    "                #print('Saved frame number :', str(int(video.get(1))))  \n",
    "\n",
    "                if count < 6 :\n",
    "                    tentative_data.append(resize_img)\n",
    "                    count = count +1\n",
    "                elif count :\n",
    "\n",
    "                    train_data.append(tentative_data)\n",
    "                    test_data.append(label)\n",
    "                    count = 0\n",
    "                    tentative_data = []\n",
    "\n",
    "        else:\n",
    "\n",
    "            break\n",
    "\n",
    "    video.release()"
   ]
  },
  {
   "cell_type": "code",
   "execution_count": 47,
   "id": "c902505f",
   "metadata": {},
   "outputs": [],
   "source": [
    "#numpy array로 변환\n",
    "\n",
    "\n",
    "train_data = np.asarray(train_data, dtype=np.float32)\n",
    "test_data = np.asarray(test_data, dtype=np.float32)"
   ]
  },
  {
   "cell_type": "code",
   "execution_count": 48,
   "id": "30dbbdf4",
   "metadata": {},
   "outputs": [
    {
     "data": {
      "text/plain": [
       "(26, 6, 225, 225, 3)"
      ]
     },
     "execution_count": 48,
     "metadata": {},
     "output_type": "execute_result"
    }
   ],
   "source": [
    "train_data.shape"
   ]
  },
  {
   "cell_type": "code",
   "execution_count": 49,
   "id": "89ea5237",
   "metadata": {},
   "outputs": [
    {
     "data": {
      "text/plain": [
       "array([0., 0., 1., 1., 1., 2., 2., 3., 3., 3., 4., 4., 4., 5., 5., 6., 6.,\n",
       "       6., 6., 7., 7., 8., 8., 8., 9., 9.], dtype=float32)"
      ]
     },
     "execution_count": 49,
     "metadata": {},
     "output_type": "execute_result"
    }
   ],
   "source": [
    "test_data"
   ]
  },
  {
   "cell_type": "code",
   "execution_count": 53,
   "id": "72bc8557",
   "metadata": {},
   "outputs": [
    {
     "name": "stdout",
     "output_type": "stream",
     "text": [
      "Model: \"sequential_5\"\n",
      "_________________________________________________________________\n",
      " Layer (type)                Output Shape              Param #   \n",
      "=================================================================\n",
      " conv3d_5 (Conv3D)           (None, 4, 223, 223, 32)   2624      \n",
      "                                                                 \n",
      " max_pooling3d_5 (MaxPooling  (None, 2, 111, 111, 32)  0         \n",
      " 3D)                                                             \n",
      "                                                                 \n",
      " batch_normalization_5 (Batc  (None, 2, 111, 111, 32)  128       \n",
      " hNormalization)                                                 \n",
      "                                                                 \n",
      " dropout_5 (Dropout)         (None, 2, 111, 111, 32)   0         \n",
      "                                                                 \n",
      " flatten_5 (Flatten)         (None, 788544)            0         \n",
      "                                                                 \n",
      " dense_10 (Dense)            (None, 64)                50466880  \n",
      "                                                                 \n",
      " dense_11 (Dense)            (None, 10)                650       \n",
      "                                                                 \n",
      "=================================================================\n",
      "Total params: 50,470,282\n",
      "Trainable params: 50,470,218\n",
      "Non-trainable params: 64\n",
      "_________________________________________________________________\n"
     ]
    }
   ],
   "source": [
    "# Create the model\n",
    "model = Sequential()\n",
    "model.add(Conv3D(32, kernel_size=(3, 3, 3), activation='relu', kernel_initializer='he_uniform', input_shape=(6, 225, 225,3)))\n",
    "model.add(MaxPooling3D(pool_size=(2, 2, 2)))\n",
    "model.add(BatchNormalization(center=True, scale=True))\n",
    "model.add(Dropout(0.5))\n",
    "#model.add(Conv3D(64, kernel_size=(3, 3, 3), activation='relu', kernel_initializer='he_uniform'))\n",
    "#model.add(MaxPooling3D(pool_size=(2, 2, 2)))\n",
    "#model.add(BatchNormalization(center=True, scale=True))\n",
    "#model.add(Dropout(0.5))\n",
    "model.add(Flatten())\n",
    "model.add(Dense(64, activation='relu', kernel_initializer='he_uniform'))\n",
    "#model.add(Dense(64, activation='relu', kernel_initializer='he_uniform'))\n",
    "model.add(Dense(10, activation='softmax'))\n",
    "\n",
    "# Compile the model\n",
    "model.compile(loss='sparse_categorical_crossentropy',\n",
    "              optimizer='Adam',\n",
    "              metrics=['accuracy'])\n",
    "\n",
    "model.summary()"
   ]
  },
  {
   "cell_type": "code",
   "execution_count": 55,
   "id": "b3a663f1",
   "metadata": {},
   "outputs": [
    {
     "name": "stdout",
     "output_type": "stream",
     "text": [
      "Epoch 1/5\n",
      "1/1 [==============================] - 32s 32s/step - loss: 231.7502 - accuracy: 0.1154\n",
      "Epoch 2/5\n",
      "1/1 [==============================] - 28s 28s/step - loss: 222.4117 - accuracy: 0.1154\n",
      "Epoch 3/5\n",
      "1/1 [==============================] - 27s 27s/step - loss: 176.0657 - accuracy: 0.0769\n",
      "Epoch 4/5\n",
      "1/1 [==============================] - 27s 27s/step - loss: 145.1125 - accuracy: 0.2692\n",
      "Epoch 5/5\n",
      "1/1 [==============================] - 27s 27s/step - loss: 98.4330 - accuracy: 0.4231\n"
     ]
    },
    {
     "data": {
      "text/plain": [
       "<keras.callbacks.History at 0x23fbc908cc0>"
      ]
     },
     "execution_count": 55,
     "metadata": {},
     "output_type": "execute_result"
    }
   ],
   "source": [
    "model.fit(train_data, test_data, epochs=5)"
   ]
  },
  {
   "cell_type": "code",
   "execution_count": 56,
   "id": "8a750fee",
   "metadata": {},
   "outputs": [],
   "source": [
    "model.save('3DCNN.h5')"
   ]
  },
  {
   "cell_type": "markdown",
   "id": "4c66274d",
   "metadata": {},
   "source": [
    "# 동영상 데이터 전처리 작업 진행중\n"
   ]
  }
 ],
 "metadata": {
  "kernelspec": {
   "display_name": "Python 3 (ipykernel)",
   "language": "python",
   "name": "python3"
  },
  "language_info": {
   "codemirror_mode": {
    "name": "ipython",
    "version": 3
   },
   "file_extension": ".py",
   "mimetype": "text/x-python",
   "name": "python",
   "nbconvert_exporter": "python",
   "pygments_lexer": "ipython3",
   "version": "3.7.3"
  }
 },
 "nbformat": 4,
 "nbformat_minor": 5
}
